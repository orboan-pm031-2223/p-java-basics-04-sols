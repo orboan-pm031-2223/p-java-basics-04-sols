{
 "cells": [
  {
   "cell_type": "markdown",
   "id": "fdaa6fe5-a80d-4673-ab95-5859bbd0b6f2",
   "metadata": {},
   "source": [
    "# Nivell 1 (màxim 5 punts)"
   ]
  },
  {
   "cell_type": "markdown",
   "id": "e3b4ea48-2cb1-4ff6-b2f0-c2a631d05d2b",
   "metadata": {},
   "source": [
    "## Pregunta 1 (1 punt)"
   ]
  },
  {
   "cell_type": "markdown",
   "id": "048a569f-5546-474c-9108-fed430deba23",
   "metadata": {},
   "source": [
    "Executa el següent codi en una cel·la:\n",
    "\n",
    "```java\n",
    "for(byte b = -125; b >= -130 && b <= 0; b--)\n",
    "    println(b)\n",
    "```"
   ]
  },
  {
   "cell_type": "code",
   "execution_count": 3,
   "id": "d143d56f-09e0-4e9f-aac0-048accd4c1f8",
   "metadata": {
    "execution": {
     "iopub.execute_input": "2023-03-13T21:09+0000",
     "iopub.status.busy": "2023-03-13T21:09+0000",
     "iopub.status.idle": "2023-03-13T21:09+0000",
     "shell.execute_reply": "2023-03-13T21:09+0000"
    },
    "tags": []
   },
   "outputs": [
    {
     "name": "stdout",
     "output_type": "stream",
     "text": [
      "-125\n",
      "-126\n",
      "-127\n",
      "-128\n"
     ]
    }
   ],
   "source": [
    "//Escriu i executa el codi aquí\n",
    "for(byte b = -125; b >= -130 && b <= 0; b--)\n",
    "    println(b)"
   ]
  },
  {
   "cell_type": "code",
   "execution_count": 7,
   "id": "c3f2e1f2-8957-4e53-8bd9-ec00d6a8aed9",
   "metadata": {
    "execution": {
     "iopub.execute_input": "2023-03-16T17:20+0000",
     "iopub.status.busy": "2023-03-16T17:20+0000",
     "iopub.status.idle": "2023-03-16T17:20+0000",
     "shell.execute_reply": "2023-03-16T17:20+0000"
    },
    "tags": []
   },
   "outputs": [
    {
     "name": "stdout",
     "output_type": "stream",
     "text": [
      "-128"
     ]
    }
   ],
   "source": [
    "byte by = (byte)(-128);\n",
    "print(by);"
   ]
  },
  {
   "cell_type": "markdown",
   "id": "3aa5e002-7d9c-4d50-bd94-a7905dc37319",
   "metadata": {},
   "source": [
    "**Respon**:\n",
    "\n",
    "1. Per què no s'imprimeix el -129 i el -130?\n",
    "2. Per què cal posar la condició b <= 0 ?"
   ]
  },
  {
   "cell_type": "markdown",
   "id": "e8e75e51-f5cb-46f5-8092-34f3145ed962",
   "metadata": {},
   "source": [
    "---\n",
    "Resposta 1:\n",
    "\n",
    "Escriu la teva resposta aquí i **raona la teva resposta**.\n",
    "\n",
    "IMPORTANT: cal raonar la resposta per poder puntuar.\n",
    "\n",
    "Perquè el tipus de dada ``byte`` té el rang [-128,127] de valors vàlids, per la qual cosa quan el bucle arriba a -129, en estar fora del rang, es fa un _casting_ des d'``int`` a ``byte ``, resultant en 127, i en ser el 127 > 0, no compleix la condició ``b <= 0`` i per tant no s'imprimeix.\n",
    "\n",
    "El mateix passa amb el -130, del qual se'n fa un casting a 126."
   ]
  },
  {
   "cell_type": "markdown",
   "id": "96326509-87f4-4d70-8d31-cd2e38d0382a",
   "metadata": {},
   "source": [
    "---\n",
    "Resposta 2:\n",
    "\n",
    "Escriu la teva resposta aquí i **raona la teva resposta**.\n",
    "\n",
    "IMPORTANT: cal raonar la resposta per poder puntuar.\n",
    "\n",
    "El -130 es _casteja_ a 126. Si b = 126, es compleix la condició ``b >= -130`` i el bucle continuaria (sense la condició ``b <= 0``) en motiu del ``b--``, passant a 125, 124, 123 ... fins arribar de nou a -130, que es _castejaria_ de nou a 126 i el bucle continuaria de forma _infinita_. Cal posar la condició ``b <= 0`` per a evitar el bucle _infinit_: el bucle acabarà amb el primer _casteig_ del -129 a 127."
   ]
  },
  {
   "cell_type": "markdown",
   "id": "f3c3e485-34d2-4c5b-b299-111b37988088",
   "metadata": {},
   "source": [
    "## Pregunta 2 (1 punt)"
   ]
  },
  {
   "cell_type": "markdown",
   "id": "2260437d-47e9-4709-b48a-f16ea3f70e0c",
   "metadata": {},
   "source": [
    "Executa el següent codi en una cel·la:\n",
    "\n",
    "```java\n",
    "String lang2 = \"Java\";\n",
    "String lang1 = \"Hello\";\n",
    "println(lang1 + lang2);\n",
    "println(lang1 + lang2 == \"HelloJava\");\n",
    "```"
   ]
  },
  {
   "cell_type": "code",
   "execution_count": 5,
   "id": "78b21702-c475-4aa9-ab6c-1997251eb0ad",
   "metadata": {
    "execution": {
     "iopub.execute_input": "2023-03-13T21:16+0000",
     "iopub.status.busy": "2023-03-13T21:16+0000",
     "iopub.status.idle": "2023-03-13T21:16+0000",
     "shell.execute_reply": "2023-03-13T21:16+0000"
    },
    "tags": []
   },
   "outputs": [
    {
     "name": "stdout",
     "output_type": "stream",
     "text": [
      "HelloJava\n",
      "false\n"
     ]
    }
   ],
   "source": [
    "//Escriu i executa el codi aquí\n",
    "String lang2 = \"Java\";\n",
    "String lang1 = \"Hello\";\n",
    "println(lang1 + lang2);\n",
    "println(lang1 + lang2 == \"HelloJava\");"
   ]
  },
  {
   "cell_type": "markdown",
   "id": "2b891786-95e3-4ce6-9bcd-4345fdf02dfe",
   "metadata": {},
   "source": [
    "**Respon**: \n",
    "\n",
    "Per què la última línia de codi imprimeix false?"
   ]
  },
  {
   "cell_type": "markdown",
   "id": "0e443e29-eefc-4943-9908-22e825121671",
   "metadata": {},
   "source": [
    "---\n",
    "Resposta:\n",
    "\n",
    "Escriu la teva resposta aquí i **raona la teva resposta**.\n",
    "\n",
    "IMPORTANT: cal raonar la resposta per poder puntuar.\n",
    "\n",
    "**Cal tenir en compte que l'operador ``==`` sempre compara si les posicions en memòria de dos objectes és la mateixa posició o si són diferents. No compara el contingut de l'objecte.**\n",
    "\n",
    "Per a comparar els continguts de dos objecte de tipus String usarem el mètode ``equals()``.\n",
    "\n",
    "Important:\n",
    "\n",
    "- Els String literals en Java es creen en una zona de memòria anomenada _String pool_. Els String en aquesta memòria sempre es reutilitzen (no hi ha String amb continguts repetits).\n",
    "- Quan es crea un String usant ``new``, sempre es crea l'String en una zona de memòria anomenada _heap_. Cada objecte a la _heap_ és un objecte diferent als altres independentment dels seus continguts.\n",
    "\n",
    "Així doncs, un String **literal** genera un nou objecte de tipus String en la memòria _String pool_ si no hi existeix prèviament un String amb els mateixos caràcters. Si aquell String ja existeix en aquesta memòria, no el crea de nou, sino que reutilitza el que ja hi ha. Per exemple:"
   ]
  },
  {
   "cell_type": "code",
   "execution_count": 23,
   "id": "873cbfba-4ed1-46e8-8c4c-7f906423a852",
   "metadata": {
    "execution": {
     "iopub.execute_input": "2023-03-17T09:52+0000",
     "iopub.status.busy": "2023-03-17T09:52+0000",
     "iopub.status.idle": "2023-03-17T09:52+0000",
     "shell.execute_reply": "2023-03-17T09:52+0000"
    },
    "tags": []
   },
   "outputs": [
    {
     "name": "stdout",
     "output_type": "stream",
     "text": [
      "true"
     ]
    }
   ],
   "source": [
    "String cadena1 = \"java\"; //es crea a la memòria String pool\n",
    "String cadena2 = \"java\"; //reutilitza l'String \"java\" que existeix a la String pool\n",
    "print(cadena1 == cadena2); //tenen la mateixa adreça de memòria"
   ]
  },
  {
   "cell_type": "markdown",
   "id": "3cb4db27-0e7a-48cf-b654-dc8179bf26ed",
   "metadata": {},
   "source": [
    "Per altra banda, si enlloc d'utilitzar un literal assignem un String a una variable utilitzant ``new``, es crearà un **nou** objecte de tipus String a la memòria _heap_, independentment de si el seu contingut és equivalent o no a un String prèviament existent a qualsevol zona de memòria. Per exemple:"
   ]
  },
  {
   "cell_type": "code",
   "execution_count": 24,
   "id": "30bb8545-00ec-4d73-b85d-480f674e6884",
   "metadata": {
    "execution": {
     "iopub.execute_input": "2023-03-17T09:53+0000",
     "iopub.status.busy": "2023-03-17T09:53+0000",
     "iopub.status.idle": "2023-03-17T09:53+0000",
     "shell.execute_reply": "2023-03-17T09:53+0000"
    },
    "tags": []
   },
   "outputs": [
    {
     "name": "stdout",
     "output_type": "stream",
     "text": [
      "false"
     ]
    }
   ],
   "source": [
    "String literal = \"javabeans\"; //Es crea a la zona de memòria String pool\n",
    "String nou = new String(\"javabeans\"); //Es crea a la zona de memòria Heap\n",
    "print(literal == nou); //tenen adreces de memòria diferents"
   ]
  },
  {
   "cell_type": "markdown",
   "id": "ffd76af5-a86b-43ad-9325-639116cdfbe8",
   "metadata": {},
   "source": [
    "Per la seva banda, la concatenació de dos String **preexistents** també crea un **nou** String a la memòria _heap_. Per exemple:"
   ]
  },
  {
   "cell_type": "code",
   "execution_count": 25,
   "id": "031e97e6-8235-47f2-a521-8319c1bcf2d1",
   "metadata": {
    "execution": {
     "iopub.execute_input": "2023-03-17T09:55+0000",
     "iopub.status.busy": "2023-03-17T09:55+0000",
     "iopub.status.idle": "2023-03-17T09:55+0000",
     "shell.execute_reply": "2023-03-17T09:55+0000"
    },
    "tags": []
   },
   "outputs": [
    {
     "name": "stdout",
     "output_type": "stream",
     "text": [
      "false"
     ]
    }
   ],
   "source": [
    "String ja = \"ja\"; //es crea a l'String pool\n",
    "String va = \"va\"; //es crea a l'String pool\n",
    "String java = ja + va; //es crea a la Heap\n",
    "String cadena = \"java\"; //es crea a l'String pool\n",
    "print(java == cadena); //tenen adreces de memòria diferents"
   ]
  },
  {
   "cell_type": "markdown",
   "id": "303aae2d-8b7c-4296-8ba9-82044dc5f9ec",
   "metadata": {},
   "source": [
    "És a dir, ``String java = ja + va`` és equivalent a ``String java = new String(ja + va)``."
   ]
  },
  {
   "cell_type": "markdown",
   "id": "fc4c8446-8e5b-4df4-b9e4-82f7dfe73987",
   "metadata": {},
   "source": [
    "## Exercici 1 (1,5 punts)"
   ]
  },
  {
   "cell_type": "markdown",
   "id": "e701dac0-7f06-4ceb-9f48-009dbfd1be73",
   "metadata": {},
   "source": [
    "Donada una cadena de text, a continuació teniu un snippet que canvia el primer caràcter pel segon:"
   ]
  },
  {
   "cell_type": "code",
   "execution_count": 14,
   "id": "40fcb645-da29-41dd-ab53-8e12f7898939",
   "metadata": {
    "execution": {
     "iopub.execute_input": "2023-03-13T21:30+0000",
     "iopub.status.busy": "2023-03-13T21:30+0000",
     "iopub.status.idle": "2023-03-13T21:30+0000",
     "shell.execute_reply": "2023-03-13T21:30+0000"
    },
    "tags": []
   },
   "outputs": [
    {
     "name": "stdout",
     "output_type": "stream",
     "text": [
      "ajva"
     ]
    }
   ],
   "source": [
    "String word = \"java\";\n",
    "\n",
    "char[] letters = word.toCharArray();\n",
    "char letter1 = letters[0];\n",
    "char letter2 = letters[1];\n",
    "letters[0] = letter2;\n",
    "letters[1] = letter1;\n",
    "print(new String(letters));\n"
   ]
  },
  {
   "cell_type": "markdown",
   "id": "9ebbb252-7302-42f6-993d-57539f13297a",
   "metadata": {},
   "source": [
    "Aprofitant el codi anterior, feu un snippet que trobi totes les combinacions possibles que s'obtenen en intercanviar la primera lletra per cadascuna de les lletres restants.\n",
    "\n",
    "Per exemple, per a \"java\" obtindrem:\n",
    "\n",
    "```\n",
    "ajva vaja aavj\n",
    "```\n",
    "\n",
    "El vostre codi ha de ser vàlid per a paraules de qualsevol mida."
   ]
  },
  {
   "cell_type": "code",
   "execution_count": 33,
   "id": "a496180e-a5e3-45aa-91bf-10c2ae53e7da",
   "metadata": {
    "execution": {
     "iopub.execute_input": "2023-03-17T10:00+0000",
     "iopub.status.busy": "2023-03-17T10:00+0000",
     "iopub.status.idle": "2023-03-17T10:00+0000",
     "shell.execute_reply": "2023-03-17T10:00+0000"
    },
    "tags": []
   },
   "outputs": [
    {
     "name": "stdout",
     "output_type": "stream",
     "text": [
      "java ajva vaja aavj "
     ]
    }
   ],
   "source": [
    "//El vostre codi a continuació:\n",
    "String word = \"java\";\n",
    "for(int i = 0; i < word.length(); i++){\n",
    "    char[] letters = word.toCharArray();\n",
    "    char letter1 = letters[0];\n",
    "    char letter2 = letters[i];\n",
    "    letters[0] = letter2;\n",
    "    letters[i]= letter1;\n",
    "    printf(\"%s \",new String(letters));\n",
    "}\n"
   ]
  },
  {
   "cell_type": "markdown",
   "id": "01566c7e-828a-4ded-9da1-240f8560c7fb",
   "metadata": {},
   "source": [
    "## Exercici 2 (1,5 punts)"
   ]
  },
  {
   "cell_type": "code",
   "execution_count": 34,
   "id": "7025bad6-2f3a-41d2-a0fd-21e39a92e27a",
   "metadata": {
    "execution": {
     "iopub.execute_input": "2023-03-17T10:00+0000",
     "iopub.status.busy": "2023-03-17T10:00+0000",
     "iopub.status.idle": "2023-03-17T10:00+0000",
     "shell.execute_reply": "2023-03-17T10:00+0000"
    },
    "tags": []
   },
   "outputs": [
    {
     "name": "stdout",
     "output_type": "stream",
     "text": [
      "[379, 170, 654, 438, 481, 568, 179, 669, 758, 367, 688, 644, 336, 867, 986, 997, 221, 75, 546, 906, 766, 692, 509, 682, 979, 599, 375, 324, 189, 551, 995, 732, 794, 123, 792, 78, 52, 951, 483, 985, 903, 102, 592, 573, 939, 473, 704, 929, 268, 966, 618, 171, 477, 466, 417, 400, 707, 664, 322, 552, 640, 664, 986, 643, 690, 195, 426, 489, 592, 608, 309, 868, 520, 774, 894, 830, 250, 540, 854, 493, 264, 955, 898, 650, 767, 689, 880, 787, 652, 763, 13, 97, 262, 386, 815, 832, 906, 849, 941, 869]"
     ]
    }
   ],
   "source": [
    "// Codi per a obtenir un array d'enters aleatoris\n",
    "\n",
    "int getRandomNumber(int min, int max) {\n",
    "    int upper = max * 10;\n",
    "    Random random = new Random();\n",
    "    return random.nextInt(upper - min) + min;\n",
    "}\n",
    "\n",
    "int[] createRandomIntArray(int max){\n",
    "    int[] numbers = new int[max];\n",
    "    for(int i = 0; i < max; i++){\n",
    "        numbers[i] = getRandomNumber(0,max);\n",
    "    }\n",
    "    return numbers;\n",
    "}\n",
    "\n",
    "int[] numbers = createRandomIntArray(100);\n",
    "\n",
    "print(Arrays.toString(numbers))"
   ]
  },
  {
   "cell_type": "markdown",
   "id": "5341f9c0-dcc0-4c3d-b04e-ee363bad35f1",
   "metadata": {},
   "source": [
    "***\n",
    "\n",
    "Feu un snippet que, donat un array de números aleatoris com el generat amb el codi anterior, calculi **la mitjana** (que pot ser decimal) que s'obté de tots els números **parells** que pertanyen a l'array.\n",
    "\n",
    " "
   ]
  },
  {
   "cell_type": "code",
   "execution_count": 39,
   "id": "519d1b1b-c28a-4a1e-871c-759f0d7f2a10",
   "metadata": {
    "execution": {
     "iopub.execute_input": "2023-03-17T10:09+0000",
     "iopub.status.busy": "2023-03-17T10:09+0000",
     "iopub.status.idle": "2023-03-17T10:09+0000",
     "shell.execute_reply": "2023-03-17T10:09+0000"
    },
    "tags": []
   },
   "outputs": [
    {
     "name": "stdout",
     "output_type": "stream",
     "text": [
      "Average of evens = 467,31"
     ]
    }
   ],
   "source": [
    "int[] numbers = createRandomIntArray(100);\n",
    "\n",
    "//TODO (solució)\n",
    "\n",
    "int sumEven = 0;\n",
    "\n",
    "int count = 0;\n",
    "\n",
    "for(int i = 0; i < numbers.length; i++){\n",
    "    if(numbers[i] % 2 == 0){\n",
    "        sumEven += numbers[i];\n",
    "        count++;\n",
    "    }\n",
    "}\n",
    "\n",
    "float average = (float)sumEven/count;\n",
    "\n",
    "printf(\"Average of evens = %.2f\", average);"
   ]
  },
  {
   "cell_type": "code",
   "execution_count": null,
   "id": "46dfbd40-bcea-41b0-b281-f8c00f58fa5d",
   "metadata": {},
   "outputs": [],
   "source": []
  }
 ],
 "metadata": {
  "kernelspec": {
   "display_name": "Java",
   "language": "java",
   "name": "java"
  },
  "language_info": {
   "codemirror_mode": "java",
   "file_extension": ".jshell",
   "mimetype": "text/x-java-source",
   "name": "Java",
   "pygments_lexer": "java",
   "version": "17.0.6+10-LTS"
  }
 },
 "nbformat": 4,
 "nbformat_minor": 5
}
