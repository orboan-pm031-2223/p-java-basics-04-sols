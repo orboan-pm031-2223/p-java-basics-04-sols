{
 "cells": [
  {
   "cell_type": "markdown",
   "id": "fdaa6fe5-a80d-4673-ab95-5859bbd0b6f2",
   "metadata": {},
   "source": [
    "# Nivell 1 (màxim 5 punts)"
   ]
  },
  {
   "cell_type": "markdown",
   "id": "e3b4ea48-2cb1-4ff6-b2f0-c2a631d05d2b",
   "metadata": {},
   "source": [
    "## Pregunta 1 (1 punt)"
   ]
  },
  {
   "cell_type": "markdown",
   "id": "048a569f-5546-474c-9108-fed430deba23",
   "metadata": {},
   "source": [
    "Executa el següent codi en una cel·la:\n",
    "\n",
    "```java\n",
    "for(byte b = 125; b <= 128 && b >= 0; b++)\n",
    "    println(b)\n",
    "```"
   ]
  },
  {
   "cell_type": "code",
   "execution_count": 4,
   "id": "d143d56f-09e0-4e9f-aac0-048accd4c1f8",
   "metadata": {
    "execution": {
     "iopub.execute_input": "2023-01-01T13:06+0000",
     "iopub.status.busy": "2023-01-01T13:06+0000",
     "iopub.status.idle": "2023-01-01T13:06+0000",
     "shell.execute_reply": "2023-01-01T13:06+0000"
    },
    "tags": []
   },
   "outputs": [
    {
     "name": "stdout",
     "output_type": "stream",
     "text": [
      "125\n",
      "126\n",
      "127\n"
     ]
    }
   ],
   "source": [
    "//Escriu i executa el codi aquí\n",
    "for(byte b = 125; b <= 128 && b >= 0; b++)\n",
    "    println(b)"
   ]
  },
  {
   "cell_type": "markdown",
   "id": "3aa5e002-7d9c-4d50-bd94-a7905dc37319",
   "metadata": {},
   "source": [
    "**Respon**:\n",
    "\n",
    "1. Per què no s'imprimeix el 128?\n",
    "2. Per què cal posar la condició b >= 0 ?"
   ]
  },
  {
   "cell_type": "markdown",
   "id": "e8e75e51-f5cb-46f5-8092-34f3145ed962",
   "metadata": {},
   "source": [
    "---\n",
    "Resposta 1:\n",
    "\n",
    "Escriu la teva resposta aquí i **raona la teva resposta**.\n",
    "\n",
    "IMPORTANT: cal raonar la resposta per poder puntuar."
   ]
  },
  {
   "cell_type": "markdown",
   "id": "96326509-87f4-4d70-8d31-cd2e38d0382a",
   "metadata": {},
   "source": [
    "---\n",
    "Resposta 2:\n",
    "\n",
    "Escriu la teva resposta aquí i **raona la teva resposta**.\n",
    "\n",
    "IMPORTANT: cal raonar la resposta per poder puntuar."
   ]
  },
  {
   "cell_type": "markdown",
   "id": "f3c3e485-34d2-4c5b-b299-111b37988088",
   "metadata": {},
   "source": [
    "## Pregunta 2 (1 punt)"
   ]
  },
  {
   "cell_type": "markdown",
   "id": "2260437d-47e9-4709-b48a-f16ea3f70e0c",
   "metadata": {},
   "source": [
    "Executa el següent codi en una cel·la:\n",
    "\n",
    "```java\n",
    "String lang1 = \"Java\";\n",
    "String lang2 = lang1;\n",
    "println(lang1 == lang2);\n",
    "String lang3 = new String(lang1);\n",
    "println(lang1 == lang3)\n",
    "```"
   ]
  },
  {
   "cell_type": "code",
   "execution_count": 9,
   "id": "78b21702-c475-4aa9-ab6c-1997251eb0ad",
   "metadata": {
    "execution": {
     "iopub.execute_input": "2023-01-01T13:14+0000",
     "iopub.status.busy": "2023-01-01T13:14+0000",
     "iopub.status.idle": "2023-01-01T13:14+0000",
     "shell.execute_reply": "2023-01-01T13:14+0000"
    },
    "tags": []
   },
   "outputs": [
    {
     "name": "stdout",
     "output_type": "stream",
     "text": [
      "true\n",
      "false\n"
     ]
    }
   ],
   "source": [
    "//Escriu i executa el codi aquí\n",
    "String lang1 = \"Java\";\n",
    "String lang2 = lang1;\n",
    "println(lang1 == lang2);\n",
    "String lang3 = new String(lang1);\n",
    "println(lang1 == lang3)"
   ]
  },
  {
   "cell_type": "markdown",
   "id": "2b891786-95e3-4ce6-9bcd-4345fdf02dfe",
   "metadata": {},
   "source": [
    "**Respon**: \n",
    "\n",
    "Per què imprimeix true i false?"
   ]
  },
  {
   "cell_type": "markdown",
   "id": "0e443e29-eefc-4943-9908-22e825121671",
   "metadata": {},
   "source": [
    "---\n",
    "Resposta:\n",
    "\n",
    "Escriu la teva resposta aquí i **raona la teva resposta**.\n",
    "\n",
    "IMPORTANT: cal raonar la resposta per poder puntuar."
   ]
  },
  {
   "cell_type": "markdown",
   "id": "fc4c8446-8e5b-4df4-b9e4-82f7dfe73987",
   "metadata": {},
   "source": [
    "## Exercici 1 (1 punt)"
   ]
  },
  {
   "cell_type": "markdown",
   "id": "e701dac0-7f06-4ceb-9f48-009dbfd1be73",
   "metadata": {},
   "source": [
    "Escriu un snippet que, donat un nombre enter positiu, imprimeixi per pantalla tots els seus divisors, excepte sí mateix.\n",
    "\n",
    "_Recordatori:_ un número enter _k_ és divisor d'un número enter _n_ si i només si la divisió entera _n/k_ és exacta, és a dir, no té resta. En altres paraules, si i només si el _n_ mòdul _k_ és igual a 0.\n",
    "\n",
    "Exemples:\n",
    "\n",
    "* Per a n = 6, imprimirà 1 2 3\n",
    "* Per a n = 7, imprimirà 1\n",
    "* Per a n = 10, imprimirà 1 2 5\n",
    "* Per a n = 28, imprimirà 1 2 4 7 14"
   ]
  },
  {
   "cell_type": "code",
   "execution_count": 10,
   "id": "40fcb645-da29-41dd-ab53-8e12f7898939",
   "metadata": {
    "execution": {
     "iopub.execute_input": "2023-01-01T13:37+0000",
     "iopub.status.busy": "2023-01-01T13:37+0000",
     "iopub.status.idle": "2023-01-01T13:37+0000",
     "shell.execute_reply": "2023-01-01T13:37+0000"
    },
    "tags": []
   },
   "outputs": [],
   "source": [
    "int n;\n",
    "\n",
    "//La teva solució:\n",
    "//TODO\n",
    "\n",
    "//Crea els teus jocs de proves a continuació:\n",
    "\n",
    "//TODO\n"
   ]
  },
  {
   "cell_type": "markdown",
   "id": "01566c7e-828a-4ded-9da1-240f8560c7fb",
   "metadata": {},
   "source": [
    "## Exercici 2 (1 punt)"
   ]
  },
  {
   "cell_type": "markdown",
   "id": "dd31eb52-c25a-4bdf-a125-049aaef50aa0",
   "metadata": {},
   "source": [
    "Fes un snippet que, donat un número enter N positiu, imprimeixi per pantalla tots els **números perfectes** entre 1 i N.\n",
    "\n",
    "> _Recordatori_: un **número perfecte** és aquell que és igual a la suma de tots els seus divisors enters, inclòs l'1, però sense incloure el mateix número en sí mateix.\n",
    "\n",
    "Per exemple:\n",
    "\n",
    "* El número 6 és perfecte perquè 1 + 2 + 3 = 6\n",
    "* El número 28 és perfecte perquè 1 + 2 + 4 + 7 + 14 = 28"
   ]
  },
  {
   "cell_type": "code",
   "execution_count": 11,
   "id": "ace84db0-b8f9-4ba8-a33d-530cb32d6d13",
   "metadata": {
    "execution": {
     "iopub.execute_input": "2023-01-01T14:11+0000",
     "iopub.status.busy": "2023-01-01T14:11+0000",
     "iopub.status.idle": "2023-01-01T14:11+0000",
     "shell.execute_reply": "2023-01-01T14:11+0000"
    },
    "tags": []
   },
   "outputs": [],
   "source": [
    "//Escriu i prova el teu codi aquí\n",
    "int N;\n",
    "\n",
    "//TODO\n",
    "\n",
    "//Crea les teves proves aquí:\n",
    "//TODO"
   ]
  },
  {
   "cell_type": "markdown",
   "id": "9f3acb59-4e0f-4d5c-8fdb-eaf5ba0df7d2",
   "metadata": {},
   "source": [
    "## Exercici 3 (1 punt)"
   ]
  },
  {
   "cell_type": "code",
   "execution_count": 14,
   "id": "7025bad6-2f3a-41d2-a0fd-21e39a92e27a",
   "metadata": {
    "execution": {
     "iopub.execute_input": "2023-01-01T14:28+0000",
     "iopub.status.busy": "2023-01-01T14:28+0000",
     "iopub.status.idle": "2023-01-01T14:28+0000",
     "shell.execute_reply": "2023-01-01T14:28+0000"
    },
    "tags": []
   },
   "outputs": [
    {
     "name": "stdout",
     "output_type": "stream",
     "text": [
      "[577, 688, 974, 38, 698, 296, 257, 868, 188, 654, 967, 424, 917, 3, 878, 549, 32, 953, 206, 715, 208, 598, 370, 281, 462, 725, 739, 853, 475, 276, 892, 55, 992, 623, 449, 329, 505, 451, 787, 421, 145, 476, 92, 739, 795, 744, 673, 799, 940, 674, 722, 883, 126, 100, 111, 280, 440, 335, 115, 900, 897, 81, 31, 555, 775, 96, 118, 9, 853, 17, 159, 36, 349, 99, 151, 391, 497, 618, 981, 903, 744, 334, 166, 378, 728, 725, 8, 703, 173, 427, 16, 990, 959, 720, 458, 238, 701, 163, 13, 904]"
     ]
    }
   ],
   "source": [
    "// Codi per a obtenir un array d'enters aleatoris\n",
    "\n",
    "int getRandomNumber(int min, int max) {\n",
    "    int upper = max * 10;\n",
    "    Random random = new Random();\n",
    "    return random.nextInt(upper - min) + min;\n",
    "}\n",
    "\n",
    "int[] createRandomIntArray(int max){\n",
    "    int[] numbers = new int[max];\n",
    "    for(int i = 0; i < max; i++){\n",
    "        numbers[i] = getRandomNumber(0,max);\n",
    "    }\n",
    "    return numbers;\n",
    "}\n",
    "\n",
    "int[] numbers = createRandomIntArray(100);\n",
    "\n",
    "print(Arrays.toString(numbers))"
   ]
  },
  {
   "cell_type": "markdown",
   "id": "5341f9c0-dcc0-4c3d-b04e-ee363bad35f1",
   "metadata": {},
   "source": [
    "En aquest exercici has de fer un snippet de codi que calculi, donat l'array _numbers_, i imprimeixi per pantalla **quants** dels números inclosos en l'array són una potència de 2.\n",
    "\n",
    "Per exemple 1, 2, 4, 8, 16 ... són potències de 2 ja que:\n",
    "* 2^0 = 1\n",
    "* 2^1 = 2\n",
    "* 2^2 = 4\n",
    "* 2^3 = 8\n",
    "* 2^4 = 16\n",
    "* etc.\n",
    "\n",
    "Per tant, si ``numbers`` = { 3, 6, 1, 7, 16, 15, 4, 128} el teu snippet imprimirà 4  "
   ]
  },
  {
   "cell_type": "code",
   "execution_count": 16,
   "id": "519d1b1b-c28a-4a1e-871c-759f0d7f2a10",
   "metadata": {
    "execution": {
     "iopub.execute_input": "2023-01-01T14:31+0000",
     "iopub.status.busy": "2023-01-01T14:31+0000",
     "iopub.status.idle": "2023-01-01T14:31+0000",
     "shell.execute_reply": "2023-01-01T14:31+0000"
    },
    "tags": []
   },
   "outputs": [],
   "source": [
    "int[] numbers = createRandomIntArray(100);\n",
    "\n",
    "//TODO (solució)\n",
    "\n",
    "//TODO (jocs de proves)"
   ]
  },
  {
   "cell_type": "code",
   "execution_count": null,
   "id": "46dfbd40-bcea-41b0-b281-f8c00f58fa5d",
   "metadata": {},
   "outputs": [],
   "source": []
  }
 ],
 "metadata": {
  "kernelspec": {
   "display_name": "Java",
   "language": "java",
   "name": "java"
  },
  "language_info": {
   "codemirror_mode": "java",
   "file_extension": ".jshell",
   "mimetype": "text/x-java-source",
   "name": "Java",
   "pygments_lexer": "java",
   "version": "17.0.5+8-LTS"
  }
 },
 "nbformat": 4,
 "nbformat_minor": 5
}
