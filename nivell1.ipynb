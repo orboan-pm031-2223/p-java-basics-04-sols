{
 "cells": [
  {
   "cell_type": "markdown",
   "id": "fdaa6fe5-a80d-4673-ab95-5859bbd0b6f2",
   "metadata": {},
   "source": [
    "# Nivell 1 (màxim 5 punts)"
   ]
  },
  {
   "cell_type": "markdown",
   "id": "e3b4ea48-2cb1-4ff6-b2f0-c2a631d05d2b",
   "metadata": {},
   "source": [
    "## Pregunta 1 (1 punt)"
   ]
  },
  {
   "cell_type": "markdown",
   "id": "048a569f-5546-474c-9108-fed430deba23",
   "metadata": {},
   "source": [
    "Executa el següent codi en una cel·la:\n",
    "\n",
    "```java\n",
    "for(byte b = -125; b >= -130 && b <= 0; b--)\n",
    "    println(b)\n",
    "```"
   ]
  },
  {
   "cell_type": "code",
   "execution_count": 3,
   "id": "d143d56f-09e0-4e9f-aac0-048accd4c1f8",
   "metadata": {
    "execution": {
     "iopub.execute_input": "2023-03-13T21:09+0000",
     "iopub.status.busy": "2023-03-13T21:09+0000",
     "iopub.status.idle": "2023-03-13T21:09+0000",
     "shell.execute_reply": "2023-03-13T21:09+0000"
    },
    "tags": []
   },
   "outputs": [
    {
     "name": "stdout",
     "output_type": "stream",
     "text": [
      "-125\n",
      "-126\n",
      "-127\n",
      "-128\n"
     ]
    }
   ],
   "source": [
    "//Escriu i executa el codi aquí\n",
    "for(byte b = -125; b >= -130 && b <= 0; b--)\n",
    "    println(b)"
   ]
  },
  {
   "cell_type": "markdown",
   "id": "3aa5e002-7d9c-4d50-bd94-a7905dc37319",
   "metadata": {},
   "source": [
    "**Respon**:\n",
    "\n",
    "1. Per què no s'imprimeix el -129 i el -130?\n",
    "2. Per què cal posar la condició b <= 0 ?"
   ]
  },
  {
   "cell_type": "markdown",
   "id": "e8e75e51-f5cb-46f5-8092-34f3145ed962",
   "metadata": {},
   "source": [
    "---\n",
    "Resposta 1:\n",
    "\n",
    "Escriu la teva resposta aquí i **raona la teva resposta**.\n",
    "\n",
    "IMPORTANT: cal raonar la resposta per poder puntuar."
   ]
  },
  {
   "cell_type": "markdown",
   "id": "96326509-87f4-4d70-8d31-cd2e38d0382a",
   "metadata": {},
   "source": [
    "---\n",
    "Resposta 2:\n",
    "\n",
    "Escriu la teva resposta aquí i **raona la teva resposta**.\n",
    "\n",
    "IMPORTANT: cal raonar la resposta per poder puntuar."
   ]
  },
  {
   "cell_type": "markdown",
   "id": "f3c3e485-34d2-4c5b-b299-111b37988088",
   "metadata": {},
   "source": [
    "## Pregunta 2 (1 punt)"
   ]
  },
  {
   "cell_type": "markdown",
   "id": "2260437d-47e9-4709-b48a-f16ea3f70e0c",
   "metadata": {},
   "source": [
    "Executa el següent codi en una cel·la:\n",
    "\n",
    "```java\n",
    "String lang2 = \"Java\";\n",
    "String lang1 = \"Hello\";\n",
    "println(lang1 + lang2);\n",
    "println(lang1 + lang2 == \"HelloJava\");\n",
    "```"
   ]
  },
  {
   "cell_type": "code",
   "execution_count": 5,
   "id": "78b21702-c475-4aa9-ab6c-1997251eb0ad",
   "metadata": {
    "execution": {
     "iopub.execute_input": "2023-03-13T21:16+0000",
     "iopub.status.busy": "2023-03-13T21:16+0000",
     "iopub.status.idle": "2023-03-13T21:16+0000",
     "shell.execute_reply": "2023-03-13T21:16+0000"
    },
    "tags": []
   },
   "outputs": [
    {
     "name": "stdout",
     "output_type": "stream",
     "text": [
      "HelloJava\n",
      "false\n"
     ]
    }
   ],
   "source": [
    "//Escriu i executa el codi aquí\n",
    "String lang2 = \"Java\";\n",
    "String lang1 = \"Hello\";\n",
    "println(lang1 + lang2);\n",
    "println(lang1 + lang2 == \"HelloJava\");"
   ]
  },
  {
   "cell_type": "markdown",
   "id": "2b891786-95e3-4ce6-9bcd-4345fdf02dfe",
   "metadata": {},
   "source": [
    "**Respon**: \n",
    "\n",
    "Per què la última línia de codi imprimeix false?"
   ]
  },
  {
   "cell_type": "markdown",
   "id": "0e443e29-eefc-4943-9908-22e825121671",
   "metadata": {},
   "source": [
    "---\n",
    "Resposta:\n",
    "\n",
    "Escriu la teva resposta aquí i **raona la teva resposta**.\n",
    "\n",
    "IMPORTANT: cal raonar la resposta per poder puntuar."
   ]
  },
  {
   "cell_type": "markdown",
   "id": "fc4c8446-8e5b-4df4-b9e4-82f7dfe73987",
   "metadata": {},
   "source": [
    "## Exercici 1 (1,5 punts)"
   ]
  },
  {
   "cell_type": "markdown",
   "id": "e701dac0-7f06-4ceb-9f48-009dbfd1be73",
   "metadata": {},
   "source": [
    "Donada una cadena de text, a continuació teniu un snippet que canvia el primer caràcter pel segon:"
   ]
  },
  {
   "cell_type": "code",
   "execution_count": 14,
   "id": "40fcb645-da29-41dd-ab53-8e12f7898939",
   "metadata": {
    "execution": {
     "iopub.execute_input": "2023-03-13T21:30+0000",
     "iopub.status.busy": "2023-03-13T21:30+0000",
     "iopub.status.idle": "2023-03-13T21:30+0000",
     "shell.execute_reply": "2023-03-13T21:30+0000"
    },
    "tags": []
   },
   "outputs": [
    {
     "name": "stdout",
     "output_type": "stream",
     "text": [
      "ajva"
     ]
    }
   ],
   "source": [
    "String word = \"java\";\n",
    "\n",
    "char[] letters = word.toCharArray();\n",
    "char letter1 = letters[0];\n",
    "char letter2 = letters[1];\n",
    "letters[0] = letter2;\n",
    "letters[1] = letter1;\n",
    "print(new String(letters));\n"
   ]
  },
  {
   "cell_type": "markdown",
   "id": "9ebbb252-7302-42f6-993d-57539f13297a",
   "metadata": {},
   "source": [
    "Aprofitant el codi anterior, feu un snippet que trobi totes les combinacions possibles que s'obtenen en intercanviar la primera lletra per cadascuna de les lletres restants.\n",
    "\n",
    "Per exemple, per a \"java\" obtindrem:\n",
    "\n",
    "```\n",
    "ajva vaja aavj\n",
    "```\n",
    "\n",
    "El vostre codi ha de ser vàlid per a paraules de qualsevol mida."
   ]
  },
  {
   "cell_type": "code",
   "execution_count": 15,
   "id": "a496180e-a5e3-45aa-91bf-10c2ae53e7da",
   "metadata": {
    "execution": {
     "iopub.execute_input": "2023-03-13T21:33+0000",
     "iopub.status.busy": "2023-03-13T21:33+0000",
     "iopub.status.idle": "2023-03-13T21:33+0000",
     "shell.execute_reply": "2023-03-13T21:33+0000"
    },
    "tags": []
   },
   "outputs": [],
   "source": [
    "//El vostre codi a continuació:\n",
    "\n"
   ]
  },
  {
   "cell_type": "markdown",
   "id": "01566c7e-828a-4ded-9da1-240f8560c7fb",
   "metadata": {},
   "source": [
    "## Exercici 2 (1,5 punts)"
   ]
  },
  {
   "cell_type": "code",
   "execution_count": 16,
   "id": "7025bad6-2f3a-41d2-a0fd-21e39a92e27a",
   "metadata": {
    "execution": {
     "iopub.execute_input": "2023-03-13T21:35+0000",
     "iopub.status.busy": "2023-03-13T21:35+0000",
     "iopub.status.idle": "2023-03-13T21:35+0000",
     "shell.execute_reply": "2023-03-13T21:35+0000"
    },
    "tags": []
   },
   "outputs": [
    {
     "name": "stdout",
     "output_type": "stream",
     "text": [
      "[966, 46, 374, 510, 690, 450, 36, 726, 107, 822, 643, 702, 1, 533, 363, 858, 17, 486, 692, 624, 482, 910, 790, 71, 194, 794, 87, 580, 749, 876, 457, 906, 108, 654, 26, 498, 55, 739, 897, 449, 892, 342, 698, 871, 204, 671, 845, 456, 373, 357, 558, 172, 733, 169, 167, 273, 746, 538, 267, 829, 45, 623, 657, 783, 814, 614, 444, 184, 42, 32, 265, 595, 97, 903, 1, 902, 315, 404, 640, 965, 393, 790, 972, 991, 349, 185, 729, 188, 95, 137, 169, 49, 139, 57, 407, 83, 516, 764, 323, 853]"
     ]
    }
   ],
   "source": [
    "// Codi per a obtenir un array d'enters aleatoris\n",
    "\n",
    "int getRandomNumber(int min, int max) {\n",
    "    int upper = max * 10;\n",
    "    Random random = new Random();\n",
    "    return random.nextInt(upper - min) + min;\n",
    "}\n",
    "\n",
    "int[] createRandomIntArray(int max){\n",
    "    int[] numbers = new int[max];\n",
    "    for(int i = 0; i < max; i++){\n",
    "        numbers[i] = getRandomNumber(0,max);\n",
    "    }\n",
    "    return numbers;\n",
    "}\n",
    "\n",
    "int[] numbers = createRandomIntArray(100);\n",
    "\n",
    "print(Arrays.toString(numbers))"
   ]
  },
  {
   "cell_type": "markdown",
   "id": "5341f9c0-dcc0-4c3d-b04e-ee363bad35f1",
   "metadata": {},
   "source": [
    "***\n",
    "\n",
    "Feu un snippet que, donat un array de números aleatoris com el generat amb el codi anterior, calculi **la mitjana** (que pot ser decimal) que s'obté de tots els números **parells** que pertanyen a l'array.\n",
    "\n",
    " "
   ]
  },
  {
   "cell_type": "code",
   "execution_count": 17,
   "id": "519d1b1b-c28a-4a1e-871c-759f0d7f2a10",
   "metadata": {
    "execution": {
     "iopub.execute_input": "2023-03-13T21:38+0000",
     "iopub.status.busy": "2023-03-13T21:38+0000",
     "iopub.status.idle": "2023-03-13T21:38+0000",
     "shell.execute_reply": "2023-03-13T21:38+0000"
    },
    "tags": []
   },
   "outputs": [],
   "source": [
    "int[] numbers = createRandomIntArray(100);\n",
    "\n",
    "//TODO (solució)\n",
    "\n",
    "//TODO (jocs de proves)"
   ]
  },
  {
   "cell_type": "code",
   "execution_count": null,
   "id": "46dfbd40-bcea-41b0-b281-f8c00f58fa5d",
   "metadata": {},
   "outputs": [],
   "source": []
  }
 ],
 "metadata": {
  "kernelspec": {
   "display_name": "Java",
   "language": "java",
   "name": "java"
  },
  "language_info": {
   "codemirror_mode": "java",
   "file_extension": ".jshell",
   "mimetype": "text/x-java-source",
   "name": "Java",
   "pygments_lexer": "java",
   "version": "17.0.6+10-LTS"
  }
 },
 "nbformat": 4,
 "nbformat_minor": 5
}
