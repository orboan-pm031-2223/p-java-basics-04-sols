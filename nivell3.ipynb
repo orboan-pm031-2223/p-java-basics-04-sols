{
 "cells": [
  {
   "cell_type": "markdown",
   "id": "47a95175-c703-484c-8202-f7cc8c96b687",
   "metadata": {},
   "source": [
    "# Nivell 3 (màxim 2,5 punts)\n",
    "\n",
    "_Nota_: aquest nivell **només** puntua si s'han resolt correctament els nivells 1 i 2."
   ]
  },
  {
   "cell_type": "markdown",
   "id": "6d67f3be-852b-461c-986d-0c7e8295e426",
   "metadata": {},
   "source": [
    "## Exercici 1 (1 punt)"
   ]
  },
  {
   "cell_type": "markdown",
   "id": "e09a0643-317c-403f-82f9-9b0445c99fd9",
   "metadata": {},
   "source": [
    "Amb el codi per a generar arrays d'enters aleatoris que hi ha al nivell 1, genera dos arrays d'enters de diferents longitud cada un, amb números aleatoris entre -50 i 50.\n",
    "\n",
    "Un cop tinguis els dos arrays, ordena'ls utilizant l'algorisme que tu has resolt, d'ordenació, del nivell 2.\n",
    "\n",
    "Finalment, fusiona els dos arrays en un de sol, però de manera que l'array resultant quedi directament ordenat (sense necessitat de fer servir l'algorisme d'ordenació del nivell 2) **però posant primer els números senars i després els parells**.\n",
    "\n",
    "Per exemple:\n",
    "\n",
    "```\n",
    "input 1          input 2           Result\n",
    "[1,4,7,12,20]    [10,15,17,33]     [1,7,15,17,33,4,10,12,20]\n",
    "[2,3,5,7,11]     [7,11,13,17]      [3,5,7,7,11,11,17,2]\n",
    "[1,2,3]          []                [1,3,2]\n",
    "```"
   ]
  },
  {
   "cell_type": "code",
   "execution_count": 54,
   "id": "cbd9482f-744a-4a2c-a46b-256873a73d11",
   "metadata": {
    "execution": {
     "iopub.execute_input": "2023-03-17T12:11+0000",
     "iopub.status.busy": "2023-03-17T12:11+0000",
     "iopub.status.idle": "2023-03-17T12:11+0000",
     "shell.execute_reply": "2023-03-17T12:11+0000"
    },
    "tags": []
   },
   "outputs": [],
   "source": [
    "// Codi per a obtenir un array d'enters aleatoris\n",
    "\n",
    "int getRandomNumber(int min, int max) {\n",
    "    int upper = max;// * 10;\n",
    "    Random random = new Random();\n",
    "    return random.nextInt(upper - min) + min;\n",
    "}\n",
    "\n",
    "int[] createRandomIntArray(int size, int min, int max){\n",
    "    int[] numbers = new int[size];\n",
    "    for(int i = 0; i < size; i++){\n",
    "        numbers[i] = getRandomNumber(min,max);\n",
    "    }\n",
    "    return numbers;\n",
    "}\n",
    "\n",
    "//Sorting code from level 2\n",
    "void sortArray(int[] numbers){\n",
    "    int aux;\n",
    "    for(int i = 0; i < numbers.length - 1; i++){\n",
    "        int min = i;\n",
    "        for(int j = i + 1; j < numbers.length; j++){\n",
    "            if(numbers[j] < numbers[min])\n",
    "                min = j;\n",
    "        }\n",
    "        aux = numbers[min];\n",
    "        numbers[min] = numbers[i];\n",
    "        numbers[i] = aux;\n",
    "    }\n",
    "}\n",
    "\n",
    "int length1 = 10;\n",
    "int length2 = 14;\n",
    "\n",
    "int[] arr1 = createRandomIntArray(length1,-50,50);\n",
    "int[] arr2 = createRandomIntArray(length2,-50,50);"
   ]
  },
  {
   "cell_type": "code",
   "execution_count": 58,
   "id": "0c17d641-b528-4b87-b5df-dde8b4a58812",
   "metadata": {
    "execution": {
     "iopub.execute_input": "2023-03-17T12:17+0000",
     "iopub.status.busy": "2023-03-17T12:17+0000",
     "iopub.status.idle": "2023-03-17T12:17+0000",
     "shell.execute_reply": "2023-03-17T12:17+0000"
    },
    "tags": []
   },
   "outputs": [
    {
     "name": "stdout",
     "output_type": "stream",
     "text": [
      "Arrays no ordenats: \n",
      "[-45, -37, -26, -15, -11, -8, -7, 40, 43, 49]\n",
      "[-40, -34, -25, -20, -12, -2, -2, 7, 8, 9, 14, 30, 37, 44]\n",
      "\n",
      "Arrays ordenats:\n",
      "[-45, -37, -26, -15, -11, -8, -7, 40, 43, 49]\n",
      "[-40, -34, -25, -20, -12, -2, -2, 7, 8, 9, 14, 30, 37, 44]\n",
      "\n",
      "Arrays fusionats:\n",
      "[-45, -37, -25, -15, -11, -7, 7, 9, 37, 43, 49, -40, -34, -26, -20, -12, -8, -2, -2, 8, 14, 30, 40, 44]"
     ]
    }
   ],
   "source": [
    "//la teva solució a continuació:\n",
    "//TODO\n",
    "\n",
    "//Generating random arrays\n",
    "// int length1 = 10;\n",
    "// int length2 = 16;\n",
    "\n",
    "// int[] arr1 = createRandomIntArray(length1,-50,50);\n",
    "// int[] arr2 = createRandomIntArray(length2,-50,50);\n",
    "\n",
    "println(\"Arrays no ordenats: \");\n",
    "println(Arrays.toString(arr1));\n",
    "println(Arrays.toString(arr2));\n",
    "\n",
    "//Sorting arrays\n",
    "sortArray(arr1);\n",
    "sortArray(arr2);\n",
    "\n",
    "printf(\"%nArrays ordenats:%n\");\n",
    "println(Arrays.toString(arr1));\n",
    "println(Arrays.toString(arr2));\n",
    "\n",
    "//Solució:\n",
    "\n",
    "int[] joined = new int[length1 + length2];\n",
    "\n",
    "int j = 0;\n",
    "\n",
    "while(j < joined.length){\n",
    "    //First, add odds numbers:\n",
    "    int currentIndexOfOdd = 0;\n",
    "    for(int i = 0; i < arr1.length; i++){        \n",
    "        if(arr1[i] % 2 != 0){\n",
    "            int elementToInsert = arr1[i];\n",
    "            for(int k = currentIndexOfOdd; k < arr2.length; k++){\n",
    "                if(arr2[k] % 2 != 0){\n",
    "                    currentIndexOfOdd = k + 1;\n",
    "                    if(arr2[k] <= arr1[i]){\n",
    "                        elementToInsert = arr2[k];\n",
    "                        i--;\n",
    "                    } else {\n",
    "                        currentIndexOfOdd--;\n",
    "                    }\n",
    "                    break;\n",
    "                }\n",
    "            }\n",
    "            joined[j] = elementToInsert;\n",
    "            j++;\n",
    "        }  \n",
    "    }\n",
    "    //Rest of arr2\n",
    "    for(int k = currentIndexOfOdd; k < arr2.length; k++){\n",
    "        if(arr2[k] % 2 != 0){\n",
    "            joined[j] = arr2[k];\n",
    "            j++;\n",
    "        }\n",
    "    }\n",
    "\n",
    "    //Second, add even numbers:\n",
    "    int currentIndexOfEven = 0;\n",
    "    for(int i = 0; i < arr1.length; i++){        \n",
    "        if(arr1[i] % 2 == 0){\n",
    "            int elementToInsert = arr1[i];\n",
    "            for(int k = currentIndexOfEven; k < arr2.length; k++){\n",
    "                if(arr2[k] % 2 == 0){\n",
    "                    currentIndexOfEven = k + 1;\n",
    "                    if(arr2[k] <= arr1[i]){\n",
    "                        elementToInsert = arr2[k];\n",
    "                        i--;\n",
    "                    } else {\n",
    "                        currentIndexOfEven--;\n",
    "                    }\n",
    "                    break;\n",
    "                }\n",
    "            }\n",
    "            joined[j] = elementToInsert;\n",
    "            j++;\n",
    "        }  \n",
    "    }\n",
    "    //Rest of arr2\n",
    "    for(int k = currentIndexOfEven; k < arr2.length; k++){\n",
    "        if(arr2[k] % 2 == 0){\n",
    "            joined[j] = arr2[k];\n",
    "            j++;\n",
    "        }\n",
    "    }    \n",
    "}\n",
    "printf(\"%nArrays fusionats:%n\");\n",
    "print(Arrays.toString(joined));"
   ]
  },
  {
   "cell_type": "markdown",
   "id": "47dbd957-7168-4fb8-912d-7c76769b7f19",
   "metadata": {},
   "source": [
    "## Exercici 2 (partició d'arrays)\n",
    "\n",
    "Per fer proves per a aquest exercici, cal que genereu arrays amb números enters aleatoris."
   ]
  },
  {
   "cell_type": "markdown",
   "id": "42ada42c-4112-401e-9c53-be7279e747bb",
   "metadata": {},
   "source": [
    "#### Apartat 2.1 (0,5 punts)\n",
    "\n",
    "Tenim un array d'enters de longitud indeterminada, que només pot contenir dos tipus d'enters: enters negatius i enters positius.\n",
    "\n",
    "Per exemple, un array vàlid seria aquest:\n",
    "\n",
    "```\n",
    "int[] arr = {4,-2,67,3,-1,-9,-123,14};\n",
    "```\n",
    "\n",
    "Un array que contingui el 0 no és un array vàlid (ja que el 0 no és un enter negatiu ni positiu).\n",
    "\n",
    "Escriu un snippet que, donat un **array vàlid**, i **_SENSE CREAR UN NOU ARRAY_**, particioni l'array en dues parts (no es tracta de crear dos arrays): \n",
    "\n",
    "> una primera part que contindrà tos els enters negatius, i una segona part que contindrà tots els enters positius (no cal que estiguin ordenats).\n",
    "\n",
    "En l'exemple anterior, el resultat a obtenir serà:\n",
    "\n",
    "```\n",
    "print(Arrays.toString(arr));\n",
    "[-2,-1,-9,-123,4,67,3,14]\n",
    "```\n"
   ]
  },
  {
   "cell_type": "code",
   "execution_count": 138,
   "id": "b3e92adb-dda5-46b5-bb65-62d0623dbe3a",
   "metadata": {
    "execution": {
     "iopub.execute_input": "2023-03-17T13:21+0000",
     "iopub.status.busy": "2023-03-17T13:21+0000",
     "iopub.status.idle": "2023-03-17T13:21+0000",
     "shell.execute_reply": "2023-03-17T13:21+0000"
    },
    "tags": []
   },
   "outputs": [
    {
     "name": "stdout",
     "output_type": "stream",
     "text": [
      "[-24, 28, 28, -14, -6, -15, 8, 5, 35, -46, -5, -3, -8, 8, 27, -3, -29, 49, -6, -40, 40, 18, -32, 4, 33, -47, 2, -14, 18, -12, 25, -2, 23, -5, -10, -36, -45, 35, 35, 1, 13, -43, 14, 32, 18, -45, -3, 40, -49, -33, -34, 35, 4, 5, -2, 37, -26, 2, -10, -17, -10, -45, 40, -37, 32, -3, -39, -4, -17, 15, 27, 44, 2, -2, 3, 15, -8, 12, -10, -36, 45, -36, -12, -26, 46, 7, -49, -25, -32, 40, -36, 40, -28, -13, -31, 38, -50, 27, -45, -21]\n"
     ]
    }
   ],
   "source": [
    "//To generate an array of random integers (positive or negative), excluding 0\n",
    "\n",
    "// Codi per a obtenir un array d'enters aleatoris\n",
    "Random random = new Random();\n",
    "\n",
    "int getRandomNumber2(int min, int max, Random random) {\n",
    "    return random.nextInt(max - min) + min;\n",
    "}\n",
    "\n",
    "int[] createRandomIntArray(int size, int min, int max){\n",
    "    int[] numbers = new int[size];\n",
    "    for(int i = 0; i < size; i++){\n",
    "        numbers[i] = getRandomNumber2(min,max,random);\n",
    "    }\n",
    "    return numbers;\n",
    "}\n",
    "\n",
    "int MAX = 50, MIN = -50;\n",
    "\n",
    "int[] array = createRandomIntArray(100,MIN,MAX);\n",
    "for(int i = 0; i < array.length; i++){\n",
    "    while(array[i] == 0)\n",
    "        array[i] = random.nextInt(max - min) + min;\n",
    "}\n",
    "\n",
    "println(Arrays.toString(array));"
   ]
  },
  {
   "cell_type": "code",
   "execution_count": 140,
   "id": "b3b5df12-b575-4ad5-a635-807b8205f5f9",
   "metadata": {
    "execution": {
     "iopub.execute_input": "2023-03-17T13:22+0000",
     "iopub.status.busy": "2023-03-17T13:22+0000",
     "iopub.status.idle": "2023-03-17T13:22+0000",
     "shell.execute_reply": "2023-03-17T13:22+0000"
    },
    "tags": []
   },
   "outputs": [
    {
     "name": "stdout",
     "output_type": "stream",
     "text": [
      "[-24, -21, -45, -14, -6, -15, -50, -31, -13, -46, -5, -3, -8, -28, -36, -3, -29, -32, -6, -40, -25, -49, -32, -26, -12, -47, -36, -14, -36, -12, -10, -2, -8, -5, -10, -36, -45, -2, -17, -4, -39, -43, -3, -37, -45, -45, -3, -10, -49, -33, -34, -17, -10, -26, -2, 37, 2, 5, 4, 35, 40, 40, 18, 32, 32, 14, 13, 1, 15, 27, 44, 2, 35, 3, 15, 35, 12, 23, 25, 45, 18, 2, 33, 46, 7, 4, 18, 40, 40, 49, 40, 27, 8, 35, 38, 5, 27, 8, 28, 28]\n"
     ]
    }
   ],
   "source": [
    "//TODO\n",
    "\n",
    "int aux;\n",
    "int indexToSwap = array.length - 1;\n",
    "\n",
    "for(int i = 0; i < indexToSwap; i++){\n",
    "    if(array[i] > 0){\n",
    "        aux = array[indexToSwap];\n",
    "        array[indexToSwap] = array[i];\n",
    "        array[i] = aux;\n",
    "        indexToSwap--;\n",
    "        i--;\n",
    "    }\n",
    "}\n",
    "println(Arrays.toString(array));"
   ]
  },
  {
   "cell_type": "markdown",
   "id": "28d304c6-5fc0-47a2-9736-8018c5fdbf90",
   "metadata": {
    "execution": {
     "iopub.execute_input": "2023-01-02T16:14+0000",
     "iopub.status.busy": "2023-01-02T16:14+0000",
     "iopub.status.idle": "2023-01-02T16:14+0000",
     "shell.execute_reply": "2023-01-02T16:14+0000"
    }
   },
   "source": [
    "#### Apartat 2.2 (1 punt)\n",
    "\n",
    "Ara heu de resoldre el mateix problema que en l'apartat anterior, però partint d'un array amb tres tipus d'enters diferents, per la qual cosa haureu de fer-ne una partició en tres parts.\n",
    "\n",
    "Els tres tipus d'enters possibles són: els negatius, els positius i el zero.\n",
    "\n",
    "La primera partició constarà de tots els enters negatius, la segona partició de tots els zeros, i la tercera partició, de tots els enters positius.\n",
    "\n",
    "Igual que en l'apartat anterior, la vostra solució s'ha de fer **SENSE CREAR UN NOU ARRAY**.\n",
    "\n",
    "Per exemple:\n",
    "\n",
    "```\n",
    "int[] arr = {4,-2,0,67,3,-1,0,-9,-123,14};\n",
    "```\n",
    "\n",
    "```\n",
    "print(Arrays.toString(arr));\n",
    "[-2,-1,-9,-123,0,0,4,67,3,14]\n",
    "```"
   ]
  },
  {
   "cell_type": "code",
   "execution_count": 149,
   "id": "959e1682-5f46-441d-8b11-9e5316ce3f3d",
   "metadata": {
    "execution": {
     "iopub.execute_input": "2023-03-17T13:26+0000",
     "iopub.status.busy": "2023-03-17T13:26+0000",
     "iopub.status.idle": "2023-03-17T13:26+0000",
     "shell.execute_reply": "2023-03-17T13:26+0000"
    },
    "tags": []
   },
   "outputs": [
    {
     "name": "stdout",
     "output_type": "stream",
     "text": [
      "[18, 36, -20, 41, 29, -30, 22, 31, -22, -30, 10, -40, 3, 12, -5, -29, 10, -30, 28, -27, -49, 47, 45, -33, 12, -27, -37, 1, -12, -35, 45, -32, 19, 1, -2, 39, 33, -6, 10, 28, -20, 36, -36, 2, 3, 32, -45, -30, 8, 41, -23, -9, -23, -14, 42, 15, -18, -40, -23, 17, 36, 39, -35, 5, 3, 11, 19, -1, 31, -46, -49, -48, -28, 0, 31, -22, 0, 4, -33, -42, 14, -30, 24, 21, -16, -25, -40, -8, 30, 14, 26, 2, -38, -41, 35, -43, -11, -26, 0, -25]\n",
      "0\n",
      "0\n",
      "0\n"
     ]
    }
   ],
   "source": [
    "// Codi per a obtenir un array d'enters aleatoris\n",
    "Random random = new Random();\n",
    "\n",
    "int getRandomNumber2(int min, int max, Random random) {\n",
    "    return random.nextInt(max - min) + min;\n",
    "}\n",
    "\n",
    "int[] createRandomIntArray(int size, int min, int max){\n",
    "    int[] numbers = new int[size];\n",
    "    for(int i = 0; i < size; i++){\n",
    "        numbers[i] = getRandomNumber2(min,max,random);\n",
    "    }\n",
    "    return numbers;\n",
    "}\n",
    "\n",
    "int MAX = 50, MIN = -50;\n",
    "\n",
    "int[] array = createRandomIntArray(100,MIN,MAX);\n",
    "\n",
    "println(Arrays.toString(array));\n",
    "for(int n:array)\n",
    "    if(n == 0)\n",
    "        println(n);"
   ]
  },
  {
   "cell_type": "code",
   "execution_count": 150,
   "id": "2dc00026-9633-4846-bf4c-7339e6b2bf64",
   "metadata": {
    "execution": {
     "iopub.execute_input": "2023-03-17T13:26+0000",
     "iopub.status.busy": "2023-03-17T13:26+0000",
     "iopub.status.idle": "2023-03-17T13:26+0000",
     "shell.execute_reply": "2023-03-17T13:26+0000"
    },
    "tags": []
   },
   "outputs": [
    {
     "name": "stdout",
     "output_type": "stream",
     "text": [
      "[-25, -9, -20, -26, -11, -30, -43, -41, -22, -30, -38, -40, -8, -40, -5, -29, -25, -30, -16, -27, -49, -30, -42, -33, -33, -27, -37, -23, -12, -35, -22, -32, -23, -28, -2, -48, -49, -6, -46, -1, -20, -35, -36, -23, -40, -18, -45, -30, -14, 0, 0, 0, 41, 42, 15, 8, 32, 3, 17, 36, 39, 2, 5, 3, 11, 19, 36, 31, 28, 10, 33, 39, 1, 31, 19, 45, 4, 1, 12, 14, 45, 24, 21, 47, 28, 10, 12, 30, 14, 26, 2, 3, 10, 35, 31, 22, 29, 41, 36, 18]\n"
     ]
    }
   ],
   "source": [
    "//TODO\n",
    "\n",
    "int aux;\n",
    "int indexToSwap = array.length - 1;\n",
    "\n",
    "for(int i = 0; i < indexToSwap; i++){\n",
    "    if(array[i] > 0){\n",
    "        aux = array[indexToSwap];\n",
    "        array[indexToSwap] = array[i];\n",
    "        array[i] = aux;\n",
    "        indexToSwap--;\n",
    "        i--;\n",
    "    }\n",
    "}\n",
    "\n",
    "for(int i = 0; i < indexToSwap; i++){\n",
    "    if(array[i] == 0){\n",
    "        aux = array[indexToSwap];\n",
    "        array[indexToSwap] = array[i];\n",
    "        array[i] = aux;\n",
    "        indexToSwap--;\n",
    "        i--;\n",
    "    }\n",
    "}\n",
    "println(Arrays.toString(array));"
   ]
  }
 ],
 "metadata": {
  "kernelspec": {
   "display_name": "Java",
   "language": "java",
   "name": "java"
  },
  "language_info": {
   "codemirror_mode": "java",
   "file_extension": ".jshell",
   "mimetype": "text/x-java-source",
   "name": "Java",
   "pygments_lexer": "java",
   "version": "17.0.6+10-LTS"
  }
 },
 "nbformat": 4,
 "nbformat_minor": 5
}
