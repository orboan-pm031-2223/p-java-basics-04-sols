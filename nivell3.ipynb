{
 "cells": [
  {
   "cell_type": "markdown",
   "id": "47a95175-c703-484c-8202-f7cc8c96b687",
   "metadata": {},
   "source": [
    "# Nivell 3 (màxim 2,5 punts)\n",
    "\n",
    "_Nota_: aquest nivell **només** puntua si s'han resolt correctament els nivells 1 i 2."
   ]
  },
  {
   "cell_type": "markdown",
   "id": "6d67f3be-852b-461c-986d-0c7e8295e426",
   "metadata": {},
   "source": [
    "## Exercici 1 (1 punt)"
   ]
  },
  {
   "cell_type": "markdown",
   "id": "e09a0643-317c-403f-82f9-9b0445c99fd9",
   "metadata": {},
   "source": [
    "Amb el codi per a generar arrays d'enters aleatoris que hi ha al nivell 1, genera dos arrays d'enters de diferents longitud cada un, amb números aleatoris entre -50 i 50.\n",
    "\n",
    "Un cop tinguis els dos arrays, ordena'ls utilizant l'algorisme que tu has resolt, d'ordenació, del nivell 2.\n",
    "\n",
    "Finalment, fusiona els dos arrays en un de sol, però de manera que l'array resultant quedi directament ordenat (sense necessitat de fer servir l'algorisme d'ordenació del nivell 2) **però posant primer els números senars i després els parells**.\n",
    "\n",
    "Per exemple:\n",
    "\n",
    "```\n",
    "input 1          input 2           Result\n",
    "[1,4,7,12,20]    [10,15,17,33]     [1,7,15,17,33,4,10,12,20]\n",
    "[2,3,5,7,11]     [7,11,13,17]      [3,5,7,7,11,11,17,2]\n",
    "[1,2,3]          []                [1,3,2]\n",
    "```"
   ]
  },
  {
   "cell_type": "code",
   "execution_count": 1,
   "id": "0c17d641-b528-4b87-b5df-dde8b4a58812",
   "metadata": {
    "execution": {
     "iopub.execute_input": "2023-01-02T15:17+0000",
     "iopub.status.busy": "2023-01-02T15:17+0000",
     "iopub.status.idle": "2023-01-02T15:17+0000",
     "shell.execute_reply": "2023-01-02T15:17+0000"
    },
    "tags": []
   },
   "outputs": [],
   "source": [
    "//la teva solució a continuació:\n",
    "//TODO\n"
   ]
  },
  {
   "cell_type": "markdown",
   "id": "47dbd957-7168-4fb8-912d-7c76769b7f19",
   "metadata": {},
   "source": [
    "## Exercici 2 (partició d'arrays)\n",
    "\n",
    "Per fer proves per a aquest exercici, cal que genereu arrays amb números enters aleatoris."
   ]
  },
  {
   "cell_type": "markdown",
   "id": "42ada42c-4112-401e-9c53-be7279e747bb",
   "metadata": {},
   "source": [
    "#### Apartat 2.1 (0,5 punts)\n",
    "\n",
    "Tenim un array d'enters de longitud indeterminada, que només pot contenir dos tipus d'enters: enters negatius i enters positius.\n",
    "\n",
    "Per exemple, un array vàlid seria aquest:\n",
    "\n",
    "```\n",
    "int[] arr = {4,-2,67,3,-1,-9,-123,14};\n",
    "```\n",
    "\n",
    "Un array que contingui el 0 no és un array vàlid (ja que el 0 no és un enter negatiu ni positiu).\n",
    "\n",
    "Escriu un snippet que, donat un **array vàlid**, i **_SENSE CREAR UN NOU ARRAY_**, particioni l'array en dues parts (no es tracta de crear dos arrays): \n",
    "\n",
    "> una primera part que contindrà tos els enters negatius, i una segona part que contindrà tots els enters positius (no cal que estiguin ordenats).\n",
    "\n",
    "En l'exemple anterior, el resultat a obtenir serà:\n",
    "\n",
    "```\n",
    "print(Arrays.toString(arr));\n",
    "[-2,-1,-9,-123,4,67,3,14]\n",
    "```\n"
   ]
  },
  {
   "cell_type": "code",
   "execution_count": 1,
   "id": "b3b5df12-b575-4ad5-a635-807b8205f5f9",
   "metadata": {
    "execution": {
     "iopub.execute_input": "2023-01-02T18:46+0000",
     "iopub.status.busy": "2023-01-02T18:46+0000",
     "iopub.status.idle": "2023-01-02T18:46+0000",
     "shell.execute_reply": "2023-01-02T18:46+0000"
    },
    "tags": []
   },
   "outputs": [],
   "source": [
    "//TODO"
   ]
  },
  {
   "cell_type": "markdown",
   "id": "28d304c6-5fc0-47a2-9736-8018c5fdbf90",
   "metadata": {
    "execution": {
     "iopub.execute_input": "2023-01-02T16:14+0000",
     "iopub.status.busy": "2023-01-02T16:14+0000",
     "iopub.status.idle": "2023-01-02T16:14+0000",
     "shell.execute_reply": "2023-01-02T16:14+0000"
    }
   },
   "source": [
    "#### Apartat 2.2 (1 punt)\n",
    "\n",
    "Ara heu de resoldre el mateix problema que en l'apartat anterior, però partint d'un array amb tres tipus d'enters diferents, per la qual cosa haureu de fer-ne una partició en tres parts.\n",
    "\n",
    "Els tres tipus d'enters possibles són: els negatius, els positius i el zero.\n",
    "\n",
    "La primera partició constarà de tots els enters negatius, la segona partició de tots els zeros, i la tercera partició, de tots els enters positius.\n",
    "\n",
    "Igual que en l'apartat anterior, la vostra solució s'ha de fer **SENSE CREAR UN NOU ARRAY**.\n",
    "\n",
    "Per exemple:\n",
    "\n",
    "```\n",
    "int[] arr = {4,-2,0,67,3,-1,0,-9,-123,14};\n",
    "```\n",
    "\n",
    "```\n",
    "print(Arrays.toString(arr));\n",
    "[-2,-1,-9,-123,0,0,4,67,3,14]\n",
    "```"
   ]
  },
  {
   "cell_type": "code",
   "execution_count": 2,
   "id": "2dc00026-9633-4846-bf4c-7339e6b2bf64",
   "metadata": {
    "execution": {
     "iopub.execute_input": "2023-01-02T18:46+0000",
     "iopub.status.busy": "2023-01-02T18:46+0000",
     "iopub.status.idle": "2023-01-02T18:46+0000",
     "shell.execute_reply": "2023-01-02T18:46+0000"
    }
   },
   "outputs": [],
   "source": [
    "//TODO"
   ]
  }
 ],
 "metadata": {
  "kernelspec": {
   "display_name": "Java",
   "language": "java",
   "name": "java"
  },
  "language_info": {
   "codemirror_mode": "java",
   "file_extension": ".jshell",
   "mimetype": "text/x-java-source",
   "name": "Java",
   "pygments_lexer": "java",
   "version": "17.0.6+10-LTS"
  }
 },
 "nbformat": 4,
 "nbformat_minor": 5
}
