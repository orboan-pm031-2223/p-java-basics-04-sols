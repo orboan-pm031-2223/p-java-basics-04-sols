{
 "cells": [
  {
   "cell_type": "markdown",
   "id": "54b801d8-b4b0-4b20-a67c-5b701d1e6f56",
   "metadata": {},
   "source": [
    "# Nivell 2 (màxim 2,5 punts)"
   ]
  },
  {
   "cell_type": "markdown",
   "id": "747e1fa9-08e4-4881-a3be-5feb4fdb1057",
   "metadata": {},
   "source": [
    "## Exercici 1 (1 punt)\n",
    "\n",
    "Fes un snippet que, donat un número N enter positiu, imprimeixi la suma de tots els múltiples de 3 que hi ha entre 1 i el número enter N donat.\n",
    "\n",
    "Per exemple:\n",
    "\n",
    "```java\n",
    "int N = 15;\n",
    "\n",
    "// Els números múltiples de 3 que hi ha entre 1 i 15 són:\n",
    "// 3, 6, 9, 12, 15\n",
    "\n",
    "// 3 + 6 + 9 + 12 + 15 = 45\n",
    "\n",
    "// L'snippet ha de retonar 45\n",
    "```"
   ]
  },
  {
   "cell_type": "code",
   "execution_count": 1,
   "id": "5b3ac07b-ca13-404f-b00d-637f62457a4d",
   "metadata": {
    "execution": {
     "iopub.execute_input": "2023-03-13T21:51+0000",
     "iopub.status.busy": "2023-03-13T21:51+0000",
     "iopub.status.idle": "2023-03-13T21:51+0000",
     "shell.execute_reply": "2023-03-13T21:51+0000"
    },
    "tags": []
   },
   "outputs": [],
   "source": [
    "//TODO. "
   ]
  },
  {
   "cell_type": "markdown",
   "id": "89d4609e-c040-4029-bd48-083b931f9f4d",
   "metadata": {},
   "source": [
    "## Exercici 2 (ordenació) (1,5 punts)"
   ]
  },
  {
   "cell_type": "markdown",
   "id": "38fb449c-f92c-423e-9572-098dce117abd",
   "metadata": {},
   "source": [
    "En aquest exercici implementaràs una funció que ordeni els elements d'un array, de menor a major. Treballarem amb arrays de números enters. **No està permès que utilitzis funcions o instruccions pròpies de java**. \n",
    "\n",
    "> Per a resoldre aquest exercici **és obligatori** que segueixis el següent algorisme:"
   ]
  },
  {
   "cell_type": "markdown",
   "id": "c4d84d04-c8fe-4573-8a5f-e5df6fd42d97",
   "metadata": {
    "execution": {
     "iopub.execute_input": "2023-03-13T21:52+0000",
     "iopub.status.busy": "2023-03-13T21:52+0000",
     "iopub.status.idle": "2023-03-13T21:52+0000",
     "shell.execute_reply": "2023-03-13T21:52+0000"
    },
    "tags": []
   },
   "source": [
    "    Buscar el mínimo elemento de la lista\n",
    "    Intercambiarlo con el primero\n",
    "    Buscar el siguiente mínimo en el resto de la lista\n",
    "    Intercambiarlo con el segundo\n",
    "\n",
    "I en general:\n",
    "\n",
    "    Buscar el mínimo elemento entre una posición i y el final de la lista\n",
    "    Intercambiar el mínimo con el elemento de la posición i\n",
    "\n",
    "_De esta manera se puede escribir el siguiente **pseudocódigo** para ordenar una lista de n elementos indexados desde el 0_:\n",
    "\n",
    "```\n",
    "para i=0 hasta n-2\n",
    "    mínimo = i;\n",
    "    para j=i+1 hasta n-1\n",
    "        si lista[j] < lista[mínimo] entonces\n",
    "            mínimo = j \n",
    "        fin si\n",
    "    fin para\n",
    "    intercambiar(lista[i], lista[mínimo])\n",
    "fin para\n",
    "```"
   ]
  },
  {
   "cell_type": "code",
   "execution_count": 3,
   "id": "e8b88195-f716-494b-984d-1cfd4151029e",
   "metadata": {
    "execution": {
     "iopub.execute_input": "2023-03-13T21:53+0000",
     "iopub.status.busy": "2023-03-13T21:53+0000",
     "iopub.status.idle": "2023-03-13T21:53+0000",
     "shell.execute_reply": "2023-03-13T21:53+0000"
    },
    "tags": []
   },
   "outputs": [],
   "source": [
    "//TODO\n",
    "// Per a resoldre aquest exercici has de generar un array de 1000 d'enters aleatòris\n",
    "// entre 0 i 20000, fent servir el codi que hi ha al nivell 1, \n",
    "// que hauràs d'ordenar de menor a major"
   ]
  },
  {
   "cell_type": "code",
   "execution_count": null,
   "id": "ccc7279e-e377-4e60-865b-ffc9be899f44",
   "metadata": {},
   "outputs": [],
   "source": []
  }
 ],
 "metadata": {
  "kernelspec": {
   "display_name": "Java",
   "language": "java",
   "name": "java"
  },
  "language_info": {
   "codemirror_mode": "java",
   "file_extension": ".jshell",
   "mimetype": "text/x-java-source",
   "name": "Java",
   "pygments_lexer": "java",
   "version": "17.0.6+10-LTS"
  }
 },
 "nbformat": 4,
 "nbformat_minor": 5
}
