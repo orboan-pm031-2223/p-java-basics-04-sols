{
 "cells": [
  {
   "cell_type": "markdown",
   "id": "54b801d8-b4b0-4b20-a67c-5b701d1e6f56",
   "metadata": {},
   "source": [
    "# Nivell 2 (màxim 2,5 punts)"
   ]
  },
  {
   "cell_type": "markdown",
   "id": "747e1fa9-08e4-4881-a3be-5feb4fdb1057",
   "metadata": {},
   "source": [
    "## Exercici 1 (1 punt)\n",
    "\n",
    "Fes un snippet que, donat un String str, trobi el corresponent String reversat. Un cop tingui els dos strings, haurà de dir si el primer és palíndrom o no.\n",
    "\n",
    "Per exemple:\n",
    "\n",
    "```java\n",
    "String str = \"tururut\";\n",
    "\n",
    "//TODO: Càlcul del revers\n",
    "println(\"Paraula original: \" + str);\n",
    "println(\"Paraula reversada: \" + revers);\n",
    "\n",
    "//TODO: Comprovació si str és palíndrom\n",
    "//boolean isPalindrom;\n",
    "println(str + \" és palíndrom: \" + isPalindrom);\n",
    "```"
   ]
  },
  {
   "cell_type": "code",
   "execution_count": 3,
   "id": "5b3ac07b-ca13-404f-b00d-637f62457a4d",
   "metadata": {
    "execution": {
     "iopub.execute_input": "2023-01-02T14:43+0000",
     "iopub.status.busy": "2023-01-02T14:43+0000",
     "iopub.status.idle": "2023-01-02T14:43+0000",
     "shell.execute_reply": "2023-01-02T14:43+0000"
    },
    "tags": []
   },
   "outputs": [],
   "source": [
    "//TODO. Pots fer servir la instrucció charAt d'String"
   ]
  },
  {
   "cell_type": "markdown",
   "id": "89d4609e-c040-4029-bd48-083b931f9f4d",
   "metadata": {},
   "source": [
    "## Exercici 2 (ordenació) (1,5 punts)"
   ]
  },
  {
   "cell_type": "markdown",
   "id": "38fb449c-f92c-423e-9572-098dce117abd",
   "metadata": {},
   "source": [
    "En aquest exercici implementaràs una funció que ordeni els elements d'un array, de menor a major. Treballarem amb arrays de números enters. **No està permès que utilitzis funcions o instruccions pròpies de java**. \n",
    "\n",
    "> Per a resoldre aquest exercici **és obligatori** que segueixis el següent algorisme:\n",
    "\n",
    "```\n",
    "Donada una llista list i una nova llista new_list:\n",
    "Per a cada element l de list, fes:\n",
    "    Per a cada element nl de new_list, fes:\n",
    "        si l és més petit que nl:\n",
    "            insereix l a new_list abans que l'element nl\n",
    "    si l'element l no ha estat inserit:\n",
    "        insereix l al final de new_list\n",
    "```\n",
    "\n"
   ]
  },
  {
   "cell_type": "code",
   "execution_count": 6,
   "id": "e8b88195-f716-494b-984d-1cfd4151029e",
   "metadata": {
    "execution": {
     "iopub.execute_input": "2023-01-02T14:50+0000",
     "iopub.status.busy": "2023-01-02T14:50+0000",
     "iopub.status.idle": "2023-01-02T14:50+0000",
     "shell.execute_reply": "2023-01-02T14:50+0000"
    },
    "tags": []
   },
   "outputs": [],
   "source": [
    "//TODO\n",
    "// Per a resoldre aquest exercici has de generar un array de 1000 d'enters aleatòris\n",
    "// entre 0 i 20000, fent servir el codi que hi ha al nivell 1, \n",
    "// que hauràs d'ordenar de menor a major"
   ]
  },
  {
   "cell_type": "code",
   "execution_count": null,
   "id": "ccc7279e-e377-4e60-865b-ffc9be899f44",
   "metadata": {},
   "outputs": [],
   "source": []
  }
 ],
 "metadata": {
  "kernelspec": {
   "display_name": "Java",
   "language": "java",
   "name": "java"
  },
  "language_info": {
   "codemirror_mode": "java",
   "file_extension": ".jshell",
   "mimetype": "text/x-java-source",
   "name": "Java",
   "pygments_lexer": "java",
   "version": "17.0.5+8-LTS"
  }
 },
 "nbformat": 4,
 "nbformat_minor": 5
}
